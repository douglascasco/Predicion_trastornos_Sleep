{
  "nbformat": 4,
  "nbformat_minor": 0,
  "metadata": {
    "colab": {
      "provenance": []
    },
    "kernelspec": {
      "name": "python3",
      "display_name": "Python 3"
    },
    "language_info": {
      "name": "python"
    }
  },
  "cells": [
    {
      "cell_type": "markdown",
      "source": [
        "**Definición del problema**\n",
        "\n",
        "Dado un conjunto de datos históricos con información que incluye información como la duración del sueño y las actividades físicas de las personas, Se busca determinar si el paciete la tendencia a padecer Trastornos del Sueño.\n",
        "\n",
        "**Por lo tanto estamos ante un problema de clasificación Multiclase al ser un valor que puede ser un valor en porcentaje.**"
      ],
      "metadata": {
        "id": "MZr6syhvje4H"
      }
    },
    {
      "cell_type": "code",
      "execution_count": null,
      "metadata": {
        "id": "8Vsjr-Oq7H6y"
      },
      "outputs": [],
      "source": [
        "import os\n",
        "\n",
        "os.environ[\"KERAS_BACKEND\"] = \"tensorflow\"\n",
        "\n",
        "import tensorflow as tf\n",
        "import pandas as pd\n",
        "import keras\n",
        "from keras.utils import FeatureSpace\n",
        "import matplotlib.pyplot as plt"
      ]
    },
    {
      "cell_type": "markdown",
      "source": [
        "**Preparar la Infomación**"
      ],
      "metadata": {
        "id": "oq9jG2ce7SWB"
      }
    },
    {
      "cell_type": "code",
      "source": [
        "#Montar el drive\n",
        "from google.colab import drive\n",
        "drive.mount('/content/drive')\n",
        "\n",
        "dataframe  = pd.read_csv('/content/drive/MyDrive/IA-Clase/Health_Sleep_Statistics.csv')\n",
        "\n",
        "#Eliminamos la columna id que no es significativa para nuestro problema\n",
        "dataframe = dataframe.drop('User ID', axis=1)\n",
        "\n",
        "# Convertirmos la columna de diagnostico a un formato binario para facilitar su estructura\n",
        "dataframe['Sleep Disorders'] = dataframe['Sleep Disorders'].map({'no': 0, 'yes': 1})\n",
        "dataframe['Medication Usage'] = dataframe['Medication Usage'].map({'no': 0, 'yes': 1})\n",
        "dataframe['Gender'] = dataframe['Gender'].map({'f': 0, 'm': 1})\n",
        "dataframe['Physical Activity Level'] = dataframe['Physical Activity Level'].map({ \"low\": 0,\"medium\": 1,\"high\":2})\n",
        "\n",
        "dataframe.head()"
      ],
      "metadata": {
        "colab": {
          "base_uri": "https://localhost:8080/",
          "height": 241
        },
        "id": "6xizUIMd713X",
        "outputId": "3f1d7929-7e6a-4204-d0fa-3ff020c460c7"
      },
      "execution_count": null,
      "outputs": [
        {
          "output_type": "stream",
          "name": "stdout",
          "text": [
            "Mounted at /content/drive\n"
          ]
        },
        {
          "output_type": "execute_result",
          "data": {
            "text/plain": [
              "   Age  Gender  Sleep Quality Bedtime Wake-up Time  Daily Steps  \\\n",
              "0   25       0              8   23:00        06:30         8000   \n",
              "1   34       1              7   00:30        07:00         5000   \n",
              "2   29       0              9   22:45        06:45         9000   \n",
              "3   41       1              5   01:00        06:30         4000   \n",
              "4   22       0              8   23:30        07:00        10000   \n",
              "\n",
              "   Calories Burned  Physical Activity Level Dietary Habits  Sleep Disorders  \\\n",
              "0             2500                        1        healthy                0   \n",
              "1             2200                        0      unhealthy                1   \n",
              "2             2700                        2        healthy                0   \n",
              "3             2100                        0      unhealthy                1   \n",
              "4             2800                        2         medium                0   \n",
              "\n",
              "   Medication Usage  \n",
              "0                 0  \n",
              "1                 1  \n",
              "2                 0  \n",
              "3                 0  \n",
              "4                 0  "
            ],
            "text/html": [
              "\n",
              "  <div id=\"df-7937fc28-8ca5-41d3-ace1-4676475e9825\" class=\"colab-df-container\">\n",
              "    <div>\n",
              "<style scoped>\n",
              "    .dataframe tbody tr th:only-of-type {\n",
              "        vertical-align: middle;\n",
              "    }\n",
              "\n",
              "    .dataframe tbody tr th {\n",
              "        vertical-align: top;\n",
              "    }\n",
              "\n",
              "    .dataframe thead th {\n",
              "        text-align: right;\n",
              "    }\n",
              "</style>\n",
              "<table border=\"1\" class=\"dataframe\">\n",
              "  <thead>\n",
              "    <tr style=\"text-align: right;\">\n",
              "      <th></th>\n",
              "      <th>Age</th>\n",
              "      <th>Gender</th>\n",
              "      <th>Sleep Quality</th>\n",
              "      <th>Bedtime</th>\n",
              "      <th>Wake-up Time</th>\n",
              "      <th>Daily Steps</th>\n",
              "      <th>Calories Burned</th>\n",
              "      <th>Physical Activity Level</th>\n",
              "      <th>Dietary Habits</th>\n",
              "      <th>Sleep Disorders</th>\n",
              "      <th>Medication Usage</th>\n",
              "    </tr>\n",
              "  </thead>\n",
              "  <tbody>\n",
              "    <tr>\n",
              "      <th>0</th>\n",
              "      <td>25</td>\n",
              "      <td>0</td>\n",
              "      <td>8</td>\n",
              "      <td>23:00</td>\n",
              "      <td>06:30</td>\n",
              "      <td>8000</td>\n",
              "      <td>2500</td>\n",
              "      <td>1</td>\n",
              "      <td>healthy</td>\n",
              "      <td>0</td>\n",
              "      <td>0</td>\n",
              "    </tr>\n",
              "    <tr>\n",
              "      <th>1</th>\n",
              "      <td>34</td>\n",
              "      <td>1</td>\n",
              "      <td>7</td>\n",
              "      <td>00:30</td>\n",
              "      <td>07:00</td>\n",
              "      <td>5000</td>\n",
              "      <td>2200</td>\n",
              "      <td>0</td>\n",
              "      <td>unhealthy</td>\n",
              "      <td>1</td>\n",
              "      <td>1</td>\n",
              "    </tr>\n",
              "    <tr>\n",
              "      <th>2</th>\n",
              "      <td>29</td>\n",
              "      <td>0</td>\n",
              "      <td>9</td>\n",
              "      <td>22:45</td>\n",
              "      <td>06:45</td>\n",
              "      <td>9000</td>\n",
              "      <td>2700</td>\n",
              "      <td>2</td>\n",
              "      <td>healthy</td>\n",
              "      <td>0</td>\n",
              "      <td>0</td>\n",
              "    </tr>\n",
              "    <tr>\n",
              "      <th>3</th>\n",
              "      <td>41</td>\n",
              "      <td>1</td>\n",
              "      <td>5</td>\n",
              "      <td>01:00</td>\n",
              "      <td>06:30</td>\n",
              "      <td>4000</td>\n",
              "      <td>2100</td>\n",
              "      <td>0</td>\n",
              "      <td>unhealthy</td>\n",
              "      <td>1</td>\n",
              "      <td>0</td>\n",
              "    </tr>\n",
              "    <tr>\n",
              "      <th>4</th>\n",
              "      <td>22</td>\n",
              "      <td>0</td>\n",
              "      <td>8</td>\n",
              "      <td>23:30</td>\n",
              "      <td>07:00</td>\n",
              "      <td>10000</td>\n",
              "      <td>2800</td>\n",
              "      <td>2</td>\n",
              "      <td>medium</td>\n",
              "      <td>0</td>\n",
              "      <td>0</td>\n",
              "    </tr>\n",
              "  </tbody>\n",
              "</table>\n",
              "</div>\n",
              "    <div class=\"colab-df-buttons\">\n",
              "\n",
              "  <div class=\"colab-df-container\">\n",
              "    <button class=\"colab-df-convert\" onclick=\"convertToInteractive('df-7937fc28-8ca5-41d3-ace1-4676475e9825')\"\n",
              "            title=\"Convert this dataframe to an interactive table.\"\n",
              "            style=\"display:none;\">\n",
              "\n",
              "  <svg xmlns=\"http://www.w3.org/2000/svg\" height=\"24px\" viewBox=\"0 -960 960 960\">\n",
              "    <path d=\"M120-120v-720h720v720H120Zm60-500h600v-160H180v160Zm220 220h160v-160H400v160Zm0 220h160v-160H400v160ZM180-400h160v-160H180v160Zm440 0h160v-160H620v160ZM180-180h160v-160H180v160Zm440 0h160v-160H620v160Z\"/>\n",
              "  </svg>\n",
              "    </button>\n",
              "\n",
              "  <style>\n",
              "    .colab-df-container {\n",
              "      display:flex;\n",
              "      gap: 12px;\n",
              "    }\n",
              "\n",
              "    .colab-df-convert {\n",
              "      background-color: #E8F0FE;\n",
              "      border: none;\n",
              "      border-radius: 50%;\n",
              "      cursor: pointer;\n",
              "      display: none;\n",
              "      fill: #1967D2;\n",
              "      height: 32px;\n",
              "      padding: 0 0 0 0;\n",
              "      width: 32px;\n",
              "    }\n",
              "\n",
              "    .colab-df-convert:hover {\n",
              "      background-color: #E2EBFA;\n",
              "      box-shadow: 0px 1px 2px rgba(60, 64, 67, 0.3), 0px 1px 3px 1px rgba(60, 64, 67, 0.15);\n",
              "      fill: #174EA6;\n",
              "    }\n",
              "\n",
              "    .colab-df-buttons div {\n",
              "      margin-bottom: 4px;\n",
              "    }\n",
              "\n",
              "    [theme=dark] .colab-df-convert {\n",
              "      background-color: #3B4455;\n",
              "      fill: #D2E3FC;\n",
              "    }\n",
              "\n",
              "    [theme=dark] .colab-df-convert:hover {\n",
              "      background-color: #434B5C;\n",
              "      box-shadow: 0px 1px 3px 1px rgba(0, 0, 0, 0.15);\n",
              "      filter: drop-shadow(0px 1px 2px rgba(0, 0, 0, 0.3));\n",
              "      fill: #FFFFFF;\n",
              "    }\n",
              "  </style>\n",
              "\n",
              "    <script>\n",
              "      const buttonEl =\n",
              "        document.querySelector('#df-7937fc28-8ca5-41d3-ace1-4676475e9825 button.colab-df-convert');\n",
              "      buttonEl.style.display =\n",
              "        google.colab.kernel.accessAllowed ? 'block' : 'none';\n",
              "\n",
              "      async function convertToInteractive(key) {\n",
              "        const element = document.querySelector('#df-7937fc28-8ca5-41d3-ace1-4676475e9825');\n",
              "        const dataTable =\n",
              "          await google.colab.kernel.invokeFunction('convertToInteractive',\n",
              "                                                    [key], {});\n",
              "        if (!dataTable) return;\n",
              "\n",
              "        const docLinkHtml = 'Like what you see? Visit the ' +\n",
              "          '<a target=\"_blank\" href=https://colab.research.google.com/notebooks/data_table.ipynb>data table notebook</a>'\n",
              "          + ' to learn more about interactive tables.';\n",
              "        element.innerHTML = '';\n",
              "        dataTable['output_type'] = 'display_data';\n",
              "        await google.colab.output.renderOutput(dataTable, element);\n",
              "        const docLink = document.createElement('div');\n",
              "        docLink.innerHTML = docLinkHtml;\n",
              "        element.appendChild(docLink);\n",
              "      }\n",
              "    </script>\n",
              "  </div>\n",
              "\n",
              "\n",
              "<div id=\"df-b63afa09-0aa1-4f03-a433-14d214766424\">\n",
              "  <button class=\"colab-df-quickchart\" onclick=\"quickchart('df-b63afa09-0aa1-4f03-a433-14d214766424')\"\n",
              "            title=\"Suggest charts\"\n",
              "            style=\"display:none;\">\n",
              "\n",
              "<svg xmlns=\"http://www.w3.org/2000/svg\" height=\"24px\"viewBox=\"0 0 24 24\"\n",
              "     width=\"24px\">\n",
              "    <g>\n",
              "        <path d=\"M19 3H5c-1.1 0-2 .9-2 2v14c0 1.1.9 2 2 2h14c1.1 0 2-.9 2-2V5c0-1.1-.9-2-2-2zM9 17H7v-7h2v7zm4 0h-2V7h2v10zm4 0h-2v-4h2v4z\"/>\n",
              "    </g>\n",
              "</svg>\n",
              "  </button>\n",
              "\n",
              "<style>\n",
              "  .colab-df-quickchart {\n",
              "      --bg-color: #E8F0FE;\n",
              "      --fill-color: #1967D2;\n",
              "      --hover-bg-color: #E2EBFA;\n",
              "      --hover-fill-color: #174EA6;\n",
              "      --disabled-fill-color: #AAA;\n",
              "      --disabled-bg-color: #DDD;\n",
              "  }\n",
              "\n",
              "  [theme=dark] .colab-df-quickchart {\n",
              "      --bg-color: #3B4455;\n",
              "      --fill-color: #D2E3FC;\n",
              "      --hover-bg-color: #434B5C;\n",
              "      --hover-fill-color: #FFFFFF;\n",
              "      --disabled-bg-color: #3B4455;\n",
              "      --disabled-fill-color: #666;\n",
              "  }\n",
              "\n",
              "  .colab-df-quickchart {\n",
              "    background-color: var(--bg-color);\n",
              "    border: none;\n",
              "    border-radius: 50%;\n",
              "    cursor: pointer;\n",
              "    display: none;\n",
              "    fill: var(--fill-color);\n",
              "    height: 32px;\n",
              "    padding: 0;\n",
              "    width: 32px;\n",
              "  }\n",
              "\n",
              "  .colab-df-quickchart:hover {\n",
              "    background-color: var(--hover-bg-color);\n",
              "    box-shadow: 0 1px 2px rgba(60, 64, 67, 0.3), 0 1px 3px 1px rgba(60, 64, 67, 0.15);\n",
              "    fill: var(--button-hover-fill-color);\n",
              "  }\n",
              "\n",
              "  .colab-df-quickchart-complete:disabled,\n",
              "  .colab-df-quickchart-complete:disabled:hover {\n",
              "    background-color: var(--disabled-bg-color);\n",
              "    fill: var(--disabled-fill-color);\n",
              "    box-shadow: none;\n",
              "  }\n",
              "\n",
              "  .colab-df-spinner {\n",
              "    border: 2px solid var(--fill-color);\n",
              "    border-color: transparent;\n",
              "    border-bottom-color: var(--fill-color);\n",
              "    animation:\n",
              "      spin 1s steps(1) infinite;\n",
              "  }\n",
              "\n",
              "  @keyframes spin {\n",
              "    0% {\n",
              "      border-color: transparent;\n",
              "      border-bottom-color: var(--fill-color);\n",
              "      border-left-color: var(--fill-color);\n",
              "    }\n",
              "    20% {\n",
              "      border-color: transparent;\n",
              "      border-left-color: var(--fill-color);\n",
              "      border-top-color: var(--fill-color);\n",
              "    }\n",
              "    30% {\n",
              "      border-color: transparent;\n",
              "      border-left-color: var(--fill-color);\n",
              "      border-top-color: var(--fill-color);\n",
              "      border-right-color: var(--fill-color);\n",
              "    }\n",
              "    40% {\n",
              "      border-color: transparent;\n",
              "      border-right-color: var(--fill-color);\n",
              "      border-top-color: var(--fill-color);\n",
              "    }\n",
              "    60% {\n",
              "      border-color: transparent;\n",
              "      border-right-color: var(--fill-color);\n",
              "    }\n",
              "    80% {\n",
              "      border-color: transparent;\n",
              "      border-right-color: var(--fill-color);\n",
              "      border-bottom-color: var(--fill-color);\n",
              "    }\n",
              "    90% {\n",
              "      border-color: transparent;\n",
              "      border-bottom-color: var(--fill-color);\n",
              "    }\n",
              "  }\n",
              "</style>\n",
              "\n",
              "  <script>\n",
              "    async function quickchart(key) {\n",
              "      const quickchartButtonEl =\n",
              "        document.querySelector('#' + key + ' button');\n",
              "      quickchartButtonEl.disabled = true;  // To prevent multiple clicks.\n",
              "      quickchartButtonEl.classList.add('colab-df-spinner');\n",
              "      try {\n",
              "        const charts = await google.colab.kernel.invokeFunction(\n",
              "            'suggestCharts', [key], {});\n",
              "      } catch (error) {\n",
              "        console.error('Error during call to suggestCharts:', error);\n",
              "      }\n",
              "      quickchartButtonEl.classList.remove('colab-df-spinner');\n",
              "      quickchartButtonEl.classList.add('colab-df-quickchart-complete');\n",
              "    }\n",
              "    (() => {\n",
              "      let quickchartButtonEl =\n",
              "        document.querySelector('#df-b63afa09-0aa1-4f03-a433-14d214766424 button');\n",
              "      quickchartButtonEl.style.display =\n",
              "        google.colab.kernel.accessAllowed ? 'block' : 'none';\n",
              "    })();\n",
              "  </script>\n",
              "</div>\n",
              "\n",
              "    </div>\n",
              "  </div>\n"
            ],
            "application/vnd.google.colaboratory.intrinsic+json": {
              "type": "dataframe",
              "variable_name": "dataframe",
              "summary": "{\n  \"name\": \"dataframe\",\n  \"rows\": 1753,\n  \"fields\": [\n    {\n      \"column\": \"Age\",\n      \"properties\": {\n        \"dtype\": \"number\",\n        \"std\": 10,\n        \"min\": 18,\n        \"max\": 60,\n        \"num_unique_values\": 43,\n        \"samples\": [\n          60,\n          38,\n          49\n        ],\n        \"semantic_type\": \"\",\n        \"description\": \"\"\n      }\n    },\n    {\n      \"column\": \"Gender\",\n      \"properties\": {\n        \"dtype\": \"number\",\n        \"std\": 0,\n        \"min\": 0,\n        \"max\": 1,\n        \"num_unique_values\": 2,\n        \"samples\": [\n          1,\n          0\n        ],\n        \"semantic_type\": \"\",\n        \"description\": \"\"\n      }\n    },\n    {\n      \"column\": \"Sleep Quality\",\n      \"properties\": {\n        \"dtype\": \"number\",\n        \"std\": 2,\n        \"min\": 1,\n        \"max\": 10,\n        \"num_unique_values\": 10,\n        \"samples\": [\n          3,\n          7\n        ],\n        \"semantic_type\": \"\",\n        \"description\": \"\"\n      }\n    },\n    {\n      \"column\": \"Bedtime\",\n      \"properties\": {\n        \"dtype\": \"object\",\n        \"num_unique_values\": 716,\n        \"samples\": [\n          \"06:07\",\n          \"10:37\"\n        ],\n        \"semantic_type\": \"\",\n        \"description\": \"\"\n      }\n    },\n    {\n      \"column\": \"Wake-up Time\",\n      \"properties\": {\n        \"dtype\": \"object\",\n        \"num_unique_values\": 711,\n        \"samples\": [\n          \"10:01\",\n          \"23:39\"\n        ],\n        \"semantic_type\": \"\",\n        \"description\": \"\"\n      }\n    },\n    {\n      \"column\": \"Daily Steps\",\n      \"properties\": {\n        \"dtype\": \"number\",\n        \"std\": 4100,\n        \"min\": 3000,\n        \"max\": 17985,\n        \"num_unique_values\": 1014,\n        \"samples\": [\n          9609,\n          7034\n        ],\n        \"semantic_type\": \"\",\n        \"description\": \"\"\n      }\n    },\n    {\n      \"column\": \"Calories Burned\",\n      \"properties\": {\n        \"dtype\": \"number\",\n        \"std\": 956,\n        \"min\": 808,\n        \"max\": 4984,\n        \"num_unique_values\": 897,\n        \"samples\": [\n          3287,\n          1807\n        ],\n        \"semantic_type\": \"\",\n        \"description\": \"\"\n      }\n    },\n    {\n      \"column\": \"Physical Activity Level\",\n      \"properties\": {\n        \"dtype\": \"number\",\n        \"std\": 0,\n        \"min\": 0,\n        \"max\": 2,\n        \"num_unique_values\": 3,\n        \"samples\": [\n          1,\n          0\n        ],\n        \"semantic_type\": \"\",\n        \"description\": \"\"\n      }\n    },\n    {\n      \"column\": \"Dietary Habits\",\n      \"properties\": {\n        \"dtype\": \"category\",\n        \"num_unique_values\": 3,\n        \"samples\": [\n          \"healthy\",\n          \"unhealthy\"\n        ],\n        \"semantic_type\": \"\",\n        \"description\": \"\"\n      }\n    },\n    {\n      \"column\": \"Sleep Disorders\",\n      \"properties\": {\n        \"dtype\": \"number\",\n        \"std\": 0,\n        \"min\": 0,\n        \"max\": 1,\n        \"num_unique_values\": 2,\n        \"samples\": [\n          1,\n          0\n        ],\n        \"semantic_type\": \"\",\n        \"description\": \"\"\n      }\n    },\n    {\n      \"column\": \"Medication Usage\",\n      \"properties\": {\n        \"dtype\": \"number\",\n        \"std\": 0,\n        \"min\": 0,\n        \"max\": 1,\n        \"num_unique_values\": 2,\n        \"samples\": [\n          1,\n          0\n        ],\n        \"semantic_type\": \"\",\n        \"description\": \"\"\n      }\n    }\n  ]\n}"
            }
          },
          "metadata": {},
          "execution_count": 3
        }
      ]
    },
    {
      "cell_type": "markdown",
      "source": [
        "Dividir los datos en entrenamiento y validación"
      ],
      "metadata": {
        "id": "AB_TQjCz8-Wc"
      }
    },
    {
      "cell_type": "code",
      "source": [
        "val_dataframe = dataframe.sample(frac=0.2, random_state=1337)\n",
        "train_dataframe = dataframe.drop(val_dataframe.index)\n",
        "\n",
        "print(\n",
        "    \"Using %d samples for training and %d for validation\"\n",
        "    % (len(train_dataframe), len(val_dataframe))\n",
        ")"
      ],
      "metadata": {
        "colab": {
          "base_uri": "https://localhost:8080/"
        },
        "id": "O5SbEl0i8nV2",
        "outputId": "5afc2000-5625-4fe5-bbad-1cb8ab2fa752"
      },
      "execution_count": null,
      "outputs": [
        {
          "output_type": "stream",
          "name": "stdout",
          "text": [
            "Using 1402 samples for training and 351 for validation\n"
          ]
        }
      ]
    },
    {
      "cell_type": "code",
      "source": [
        "def dataframe_to_dataset(dataframe):\n",
        "    dataframe = dataframe.copy()\n",
        "    labels = dataframe.pop(\"Sleep Disorders\")\n",
        "    ds = tf.data.Dataset.from_tensor_slices((dict(dataframe), labels))\n",
        "    ds = ds.shuffle(buffer_size=len(dataframe))\n",
        "    return ds\n",
        "\n",
        "\n",
        "train_ds = dataframe_to_dataset(train_dataframe)\n",
        "val_ds = dataframe_to_dataset(val_dataframe)"
      ],
      "metadata": {
        "id": "KWNi8W5X9M3R"
      },
      "execution_count": null,
      "outputs": []
    },
    {
      "cell_type": "markdown",
      "source": [
        "\n",
        "Cada conjunto de datos produce una tupla (entrada, diagnostico) donde la entrada es un diccionario de características y el objetivo es el valor no(0) o yes(1).\n"
      ],
      "metadata": {
        "id": "HuNuThv794bO"
      }
    },
    {
      "cell_type": "code",
      "source": [
        "for x, y in train_ds.take(1):\n",
        "    print(\"Input:\", x)\n",
        "    print(\"Sleep Disorders:\", y)"
      ],
      "metadata": {
        "colab": {
          "base_uri": "https://localhost:8080/"
        },
        "id": "OXSZVmZ193SY",
        "outputId": "b64fd35a-f268-4328-fea8-d2e6b36abe98"
      },
      "execution_count": null,
      "outputs": [
        {
          "output_type": "stream",
          "name": "stdout",
          "text": [
            "Input: {'Age': <tf.Tensor: shape=(), dtype=int64, numpy=18>, 'Gender': <tf.Tensor: shape=(), dtype=int64, numpy=1>, 'Sleep Quality': <tf.Tensor: shape=(), dtype=int64, numpy=2>, 'Bedtime': <tf.Tensor: shape=(), dtype=string, numpy=b'07:50'>, 'Wake-up Time': <tf.Tensor: shape=(), dtype=string, numpy=b'15:30'>, 'Daily Steps': <tf.Tensor: shape=(), dtype=int64, numpy=9438>, 'Calories Burned': <tf.Tensor: shape=(), dtype=int64, numpy=1917>, 'Physical Activity Level': <tf.Tensor: shape=(), dtype=int64, numpy=0>, 'Dietary Habits': <tf.Tensor: shape=(), dtype=string, numpy=b'healthy'>, 'Medication Usage': <tf.Tensor: shape=(), dtype=int64, numpy=0>}\n",
            "Sleep Disorders: tf.Tensor(0, shape=(), dtype=int64)\n"
          ]
        }
      ]
    },
    {
      "cell_type": "code",
      "source": [
        "#Agrupamos los datasets\n",
        "train_ds = train_ds.batch(32)\n",
        "val_ds = val_ds.batch(32)"
      ],
      "metadata": {
        "id": "Th4LJWjVCP-h"
      },
      "execution_count": null,
      "outputs": []
    },
    {
      "cell_type": "markdown",
      "source": [
        "**Configuración de un FeatureSpace**\n",
        "Para configurar cómo debe preprocesarse cada característica, instanciamos un keras.utils.FeatureSpace y le pasamos un diccionario que mapea el nombre de nuestras características a una cadena que describe el tipo de característica."
      ],
      "metadata": {
        "id": "GLWhxhFvCjHc"
      }
    },
    {
      "cell_type": "code",
      "source": [
        "from keras.utils import FeatureSpace\n",
        "\n",
        "feature_space = FeatureSpace(\n",
        "    features={\n",
        "        \"Age\": FeatureSpace.float_normalized(),  # Edad como valor numérico normalizado\n",
        "        \"Gender\": FeatureSpace.integer_categorical(),  # Género como categórica numérica\n",
        "        \"Sleep Quality\": FeatureSpace.integer_categorical(),  # Calidad del sueño como categórica numérica\n",
        "        \"Bedtime\": FeatureSpace.string_hashed(num_bins=100),  # Hora de acostarse como hashed string\n",
        "        \"Wake-up Time\": FeatureSpace.string_hashed(num_bins=100),  # Hora de despertar como hashed string\n",
        "        \"Daily Steps\": FeatureSpace.float_normalized(),  # Pasos diarios como numérica normalizada\n",
        "        \"Calories Burned\": FeatureSpace.float_normalized(),  # Calorías quemadas como numérica normalizada\n",
        "        \"Physical Activity Level\": FeatureSpace.integer_categorical(),  # Nivel de actividad física como categórica numérica\n",
        "        \"Dietary Habits\": FeatureSpace.string_hashed(num_bins=50),  # Hábitos alimenticios como hashed string\n",
        "        \"Medication Usage\": FeatureSpace.integer_categorical()  # Uso de medicamentos como categórica numérica\n",
        "    },\n",
        "    output_mode=\"concat\",\n",
        ")"
      ],
      "metadata": {
        "id": "FTEy2JPNF5PD"
      },
      "execution_count": null,
      "outputs": []
    },
    {
      "cell_type": "markdown",
      "source": [
        "**Adaptar el FeatureSpace a los datos de entrenamiento**\n"
      ],
      "metadata": {
        "id": "gJJIfVPgHZAJ"
      }
    },
    {
      "cell_type": "code",
      "source": [
        "train_ds_with_no_labels = train_ds.map(lambda x, _: x)\n",
        "feature_space.adapt(train_ds_with_no_labels)\n",
        "\n"
      ],
      "metadata": {
        "id": "kx2H9-MMHeUV"
      },
      "execution_count": null,
      "outputs": []
    },
    {
      "cell_type": "code",
      "source": [
        "for x, _ in train_ds.take(1):\n",
        "    preprocessed_x = feature_space(x)\n",
        "    print(\"preprocessed_x.shape:\", preprocessed_x.shape)\n",
        "    print(\"preprocessed_x.dtype:\", preprocessed_x.dtype)"
      ],
      "metadata": {
        "colab": {
          "base_uri": "https://localhost:8080/"
        },
        "id": "fGiKjglZH5a8",
        "outputId": "e0bce2bb-b149-4b3d-d3d4-c423fe1f68b1"
      },
      "execution_count": null,
      "outputs": [
        {
          "output_type": "stream",
          "name": "stdout",
          "text": [
            "preprocessed_x.shape: (32, 274)\n",
            "preprocessed_x.dtype: <dtype: 'float32'>\n"
          ]
        }
      ]
    },
    {
      "cell_type": "code",
      "source": [
        "preprocessed_train_ds = train_ds.map(\n",
        "    lambda x, y: (feature_space(x), y), num_parallel_calls=tf.data.AUTOTUNE\n",
        ")\n",
        "preprocessed_train_ds = preprocessed_train_ds.prefetch(tf.data.AUTOTUNE)\n",
        "\n",
        "preprocessed_val_ds = val_ds.map(\n",
        "    lambda x, y: (feature_space(x), y), num_parallel_calls=tf.data.AUTOTUNE\n",
        ")\n",
        "preprocessed_val_ds = preprocessed_val_ds.prefetch(tf.data.AUTOTUNE)"
      ],
      "metadata": {
        "id": "tTmmWPzaJSnJ"
      },
      "execution_count": null,
      "outputs": []
    },
    {
      "cell_type": "markdown",
      "source": [
        "**Construir un modelo/Optimizador adam**"
      ],
      "metadata": {
        "id": "NZ0Dy02hK8bw"
      }
    },
    {
      "cell_type": "code",
      "source": [
        "dict_inputs = feature_space.get_inputs()\n",
        "encoded_features = feature_space.get_encoded_features()\n",
        "\n",
        "x = keras.layers.Dense(32, activation=\"relu\")(encoded_features)\n",
        "x = keras.layers.Dropout(0.5)(x)\n",
        "predictions = keras.layers.Dense(1, activation=\"sigmoid\")(x)\n",
        "\n",
        "training_model = keras.Model(inputs=encoded_features, outputs=predictions)\n",
        "training_model.compile(\n",
        "    optimizer=\"adam\", loss=\"binary_crossentropy\", metrics=[\"accuracy\"]\n",
        ")\n",
        "\n",
        "inference_model = keras.Model(inputs=dict_inputs, outputs=predictions)"
      ],
      "metadata": {
        "id": "B3AMlfxGLAYo"
      },
      "execution_count": null,
      "outputs": []
    },
    {
      "cell_type": "markdown",
      "source": [
        "**Entrenar el modelo**"
      ],
      "metadata": {
        "id": "ZTwjlgurND3x"
      }
    },
    {
      "cell_type": "code",
      "source": [
        "training_model.fit(\n",
        "    preprocessed_train_ds,\n",
        "    epochs=10,\n",
        "    validation_data=preprocessed_val_ds,\n",
        "    verbose=2,\n",
        ")"
      ],
      "metadata": {
        "colab": {
          "base_uri": "https://localhost:8080/"
        },
        "id": "psNLNieMNGKj",
        "outputId": "40f5a694-8c8e-42e0-8460-e7c1a90368b2"
      },
      "execution_count": null,
      "outputs": [
        {
          "output_type": "stream",
          "name": "stdout",
          "text": [
            "Epoch 1/10\n",
            "44/44 - 2s - 34ms/step - accuracy: 0.5913 - loss: 0.6725 - val_accuracy: 0.6610 - val_loss: 0.6318\n",
            "Epoch 2/10\n",
            "44/44 - 0s - 8ms/step - accuracy: 0.7040 - loss: 0.5998 - val_accuracy: 0.6695 - val_loss: 0.5864\n",
            "Epoch 3/10\n",
            "44/44 - 0s - 6ms/step - accuracy: 0.7026 - loss: 0.5570 - val_accuracy: 0.6838 - val_loss: 0.5517\n",
            "Epoch 4/10\n",
            "44/44 - 0s - 6ms/step - accuracy: 0.7240 - loss: 0.5253 - val_accuracy: 0.7009 - val_loss: 0.5287\n",
            "Epoch 5/10\n",
            "44/44 - 0s - 5ms/step - accuracy: 0.7282 - loss: 0.5151 - val_accuracy: 0.7094 - val_loss: 0.5123\n",
            "Epoch 6/10\n",
            "44/44 - 0s - 5ms/step - accuracy: 0.7454 - loss: 0.4958 - val_accuracy: 0.7066 - val_loss: 0.5025\n",
            "Epoch 7/10\n",
            "44/44 - 0s - 7ms/step - accuracy: 0.7689 - loss: 0.4757 - val_accuracy: 0.7037 - val_loss: 0.4937\n",
            "Epoch 8/10\n",
            "44/44 - 0s - 5ms/step - accuracy: 0.7504 - loss: 0.4741 - val_accuracy: 0.7123 - val_loss: 0.4867\n",
            "Epoch 9/10\n",
            "44/44 - 0s - 7ms/step - accuracy: 0.7639 - loss: 0.4613 - val_accuracy: 0.7208 - val_loss: 0.4825\n",
            "Epoch 10/10\n",
            "44/44 - 1s - 16ms/step - accuracy: 0.7746 - loss: 0.4441 - val_accuracy: 0.7208 - val_loss: 0.4798\n"
          ]
        },
        {
          "output_type": "execute_result",
          "data": {
            "text/plain": [
              "<keras.src.callbacks.history.History at 0x7e8c3452eef0>"
            ]
          },
          "metadata": {},
          "execution_count": 13
        }
      ]
    },
    {
      "cell_type": "markdown",
      "source": [
        "**OJO Funcion para Graficos**"
      ],
      "metadata": {
        "id": "42EAl3RciZiA"
      }
    },
    {
      "cell_type": "code",
      "source": [
        "import matplotlib.pyplot as plt\n",
        "\n",
        "def plot_predictions(predictions):\n",
        "    \"\"\"\n",
        "    Método para generar un gráfico de barras con las predicciones de los pacientes.\n",
        "        Parámetros:\n",
        "     - predictions: lista de las predicciones (probabilidades) correspondientes a cada paciente.\n",
        "    \"\"\"\n",
        "\n",
        "    patients = [\"Paciente #1\", \"Paciente #2\"]\n",
        "    # Crear el gráfico de barras\n",
        "    plt.figure()\n",
        "    plt.bar(patients, predictions, color=['Black', 'Green'])\n",
        "\n",
        "    # Agregar etiquetas y título\n",
        "    plt.ylim(0, 100)  # Límite de la probabilidad en %\n",
        "    plt.ylabel(\"Probabilidad (%)\", fontsize=12)\n",
        "    plt.title(\"Probabilidad de Padecer Trastorno del Sueño\", fontsize=14)\n",
        "    plt.xticks(fontsize=12)\n",
        "    plt.yticks(fontsize=12)\n",
        "\n",
        "    # Mostrar el valor de cada barra\n",
        "    for i, prob in enumerate(predictions):\n",
        "        plt.text(i, prob + 1, f\"{prob:.2f}%\", ha='center', fontsize=10)\n",
        "\n",
        "    # Mostrar la gráfica\n",
        "    plt.show()\n"
      ],
      "metadata": {
        "id": "m8zbguGnimzA"
      },
      "execution_count": null,
      "outputs": []
    },
    {
      "cell_type": "markdown",
      "source": [
        "**Prueba con datos**\n",
        "\n",
        "La primera muestra es de una persona con Trastornos del sueño\n",
        " la segunda sano**\n",
        "\n"
      ],
      "metadata": {
        "id": "AWiFqCoiNPsV"
      }
    },
    {
      "cell_type": "code",
      "source": [
        "# 34,m,7, 00:30, 07:00,5000,2200,low:0,unhealthy,yes,yes\n",
        "\"\"\"\"\n",
        "CARACTERISTICAS\n",
        "Age,Gender,Bedtime,Wake-up Time,Daily Steps,Calories Burned,\n",
        "Physical Activity Level,Dietary Habits,Medication Usage\n",
        "\"\"\"\n",
        "sample = {\n",
        "        \"Age\": 34,\n",
        "        \"Gender\": 0,\n",
        "        \"Sleep Quality\": 7,\n",
        "        \"Bedtime\": '00:30',\n",
        "        \"Wake-up Time\": '07:00',\n",
        "        \"Daily Steps\": 5000,\n",
        "        \"Calories Burned\": 2200,\n",
        "        \"Physical Activity Level\":0 ,\n",
        "        \"Dietary Habits\": 'unhealthy',\n",
        "        \"Medication Usage\":1,\n",
        "}\n",
        "#30,f:0,8,22:30,06:00,8500,2600,high:2,healthy,no\n",
        "sample2 = {\n",
        "     \"Age\": 30,\n",
        "        \"Gender\": 0,\n",
        "        \"Sleep Quality\": 8,\n",
        "        \"Bedtime\": '22:30',\n",
        "        \"Wake-up Time\": '06:00',\n",
        "        \"Daily Steps\": 8500,\n",
        "        \"Calories Burned\": 2600,\n",
        "        \"Physical Activity Level\":2,\n",
        "        \"Dietary Habits\": 'healthy',\n",
        "        \"Medication Usage\":1,\n",
        "}\n",
        "input_dict = {name: tf.convert_to_tensor([value]) for name, value in sample.items()}\n",
        "predictions1 = inference_model.predict(input_dict)  * 100\n",
        "\n",
        "print(\n",
        "    f\"Esta paciente #1  en particular tiene un {predictions1[0][0]:.2f}% Probabilidad \"\n",
        "    \"De padecer Trastorno del Sueño, según lo evaluado por nuestro modelo\"\n",
        ")\n",
        "\n",
        "input_dict = {name: tf.convert_to_tensor([value]) for name, value in sample2.items()}\n",
        "predictions2 = inference_model.predict(input_dict) *100\n",
        "\n",
        "print(\n",
        "    f\"Esta paciente #2  en particular tiene un {predictions2[0][0]:.2f}% Probabilidad \"\n",
        "    \"De padecer Trastorno del Sueño, según lo evaluado por nuestro modelo\"\n",
        ")\n",
        "\n",
        "predictions = [predictions1[0][0], predictions2[0][0]]\n",
        "\n",
        "plot_predictions(predictions)"
      ],
      "metadata": {
        "colab": {
          "base_uri": "https://localhost:8080/",
          "height": 526
        },
        "id": "8f9t8uFAj015",
        "outputId": "d4be102e-a2e5-4970-968e-0247228ea91d"
      },
      "execution_count": null,
      "outputs": [
        {
          "output_type": "stream",
          "name": "stdout",
          "text": [
            "\u001b[1m1/1\u001b[0m \u001b[32m━━━━━━━━━━━━━━━━━━━━\u001b[0m\u001b[37m\u001b[0m \u001b[1m0s\u001b[0m 199ms/step\n",
            "Esta paciente #1  en particular tiene un 91.00% Probabilidad De padecer Trastorno del Sueño, según lo evaluado por nuestro modelo\n",
            "\u001b[1m1/1\u001b[0m \u001b[32m━━━━━━━━━━━━━━━━━━━━\u001b[0m\u001b[37m\u001b[0m \u001b[1m0s\u001b[0m 105ms/step\n",
            "Esta paciente #2  en particular tiene un 30.58% Probabilidad De padecer Trastorno del Sueño, según lo evaluado por nuestro modelo\n"
          ]
        },
        {
          "output_type": "display_data",
          "data": {
            "text/plain": [
              "<Figure size 640x480 with 1 Axes>"
            ],
            "image/png": "[encoded data removed]"
          },
          "metadata": {}
        }
      ]
    },
    {
      "cell_type": "markdown",
      "source": [
        "**Construir un modelo/Optimizador SGD**"
      ],
      "metadata": {
        "id": "tH3ApaYSOWym"
      }
    },
    {
      "cell_type": "code",
      "source": [
        "dict_inputs = feature_space.get_inputs()\n",
        "encoded_features = feature_space.get_encoded_features()\n",
        "\n",
        "x = keras.layers.Dense(32, activation=\"relu\")(encoded_features)\n",
        "x = keras.layers.Dropout(0.5)(x)\n",
        "predictions = keras.layers.Dense(1, activation=\"sigmoid\")(x)\n",
        "\n",
        "training_model = keras.Model(inputs=encoded_features, outputs=predictions)\n",
        "training_model.compile(\n",
        "    optimizer=\"SGD\", loss=\"binary_crossentropy\", metrics=[\"accuracy\"]\n",
        ")\n",
        "\n",
        "inference_model = keras.Model(inputs=dict_inputs, outputs=predictions)"
      ],
      "metadata": {
        "id": "0m-80H24Opzi"
      },
      "execution_count": null,
      "outputs": []
    },
    {
      "cell_type": "markdown",
      "source": [
        "**Entrenar el modelo**"
      ],
      "metadata": {
        "id": "CoJRRLWtO5my"
      }
    },
    {
      "cell_type": "code",
      "source": [
        "training_model.fit(\n",
        "    preprocessed_train_ds,\n",
        "    epochs=20,\n",
        "    validation_data=preprocessed_val_ds,\n",
        "    verbose=2,\n",
        ")"
      ],
      "metadata": {
        "colab": {
          "base_uri": "https://localhost:8080/"
        },
        "id": "dFPx2NkAO4t6",
        "outputId": "30d90b4e-2976-47dd-fb6e-1f7820367037"
      },
      "execution_count": null,
      "outputs": [
        {
          "output_type": "stream",
          "name": "stdout",
          "text": [
            "Epoch 1/20\n",
            "44/44 - 1s - 32ms/step - accuracy: 0.5485 - loss: 0.7280 - val_accuracy: 0.5442 - val_loss: 0.6983\n",
            "Epoch 2/20\n",
            "44/44 - 0s - 9ms/step - accuracy: 0.5934 - loss: 0.6642 - val_accuracy: 0.5527 - val_loss: 0.6570\n",
            "Epoch 3/20\n",
            "44/44 - 0s - 6ms/step - accuracy: 0.6170 - loss: 0.6348 - val_accuracy: 0.6296 - val_loss: 0.6280\n",
            "Epoch 4/20\n",
            "44/44 - 0s - 8ms/step - accuracy: 0.6427 - loss: 0.6020 - val_accuracy: 0.6496 - val_loss: 0.6059\n",
            "Epoch 5/20\n",
            "44/44 - 0s - 7ms/step - accuracy: 0.6434 - loss: 0.5859 - val_accuracy: 0.6667 - val_loss: 0.5883\n",
            "Epoch 6/20\n",
            "44/44 - 0s - 4ms/step - accuracy: 0.6591 - loss: 0.5805 - val_accuracy: 0.6923 - val_loss: 0.5748\n",
            "Epoch 7/20\n",
            "44/44 - 0s - 4ms/step - accuracy: 0.6726 - loss: 0.5601 - val_accuracy: 0.7037 - val_loss: 0.5635\n",
            "Epoch 8/20\n",
            "44/44 - 0s - 7ms/step - accuracy: 0.6683 - loss: 0.5549 - val_accuracy: 0.7009 - val_loss: 0.5545\n",
            "Epoch 9/20\n",
            "44/44 - 0s - 4ms/step - accuracy: 0.6790 - loss: 0.5448 - val_accuracy: 0.7009 - val_loss: 0.5468\n",
            "Epoch 10/20\n",
            "44/44 - 0s - 4ms/step - accuracy: 0.6862 - loss: 0.5403 - val_accuracy: 0.7037 - val_loss: 0.5408\n",
            "Epoch 11/20\n",
            "44/44 - 0s - 4ms/step - accuracy: 0.6840 - loss: 0.5344 - val_accuracy: 0.7009 - val_loss: 0.5356\n",
            "Epoch 12/20\n",
            "44/44 - 0s - 4ms/step - accuracy: 0.6940 - loss: 0.5304 - val_accuracy: 0.7009 - val_loss: 0.5311\n",
            "Epoch 13/20\n",
            "44/44 - 0s - 4ms/step - accuracy: 0.6890 - loss: 0.5296 - val_accuracy: 0.7094 - val_loss: 0.5272\n",
            "Epoch 14/20\n",
            "44/44 - 0s - 5ms/step - accuracy: 0.7076 - loss: 0.5244 - val_accuracy: 0.7179 - val_loss: 0.5236\n",
            "Epoch 15/20\n",
            "44/44 - 0s - 6ms/step - accuracy: 0.7097 - loss: 0.5132 - val_accuracy: 0.7151 - val_loss: 0.5201\n",
            "Epoch 16/20\n",
            "44/44 - 0s - 7ms/step - accuracy: 0.6919 - loss: 0.5250 - val_accuracy: 0.7208 - val_loss: 0.5174\n",
            "Epoch 17/20\n",
            "44/44 - 0s - 4ms/step - accuracy: 0.6854 - loss: 0.5265 - val_accuracy: 0.7265 - val_loss: 0.5152\n",
            "Epoch 18/20\n",
            "44/44 - 0s - 7ms/step - accuracy: 0.7026 - loss: 0.5153 - val_accuracy: 0.7293 - val_loss: 0.5130\n",
            "Epoch 19/20\n",
            "44/44 - 0s - 4ms/step - accuracy: 0.6976 - loss: 0.5174 - val_accuracy: 0.7322 - val_loss: 0.5111\n",
            "Epoch 20/20\n",
            "44/44 - 0s - 4ms/step - accuracy: 0.7026 - loss: 0.5159 - val_accuracy: 0.7322 - val_loss: 0.5093\n"
          ]
        },
        {
          "output_type": "execute_result",
          "data": {
            "text/plain": [
              "<keras.src.callbacks.history.History at 0x7e8c34229b40>"
            ]
          },
          "metadata": {},
          "execution_count": 16
        }
      ]
    },
    {
      "cell_type": "markdown",
      "source": [
        "**Prueba con datos Nuevamente con Sample y Sample2"
      ],
      "metadata": {
        "id": "oyVcPblmPzKa"
      }
    },
    {
      "cell_type": "code",
      "source": [
        "input_dict = {name: tf.convert_to_tensor([value]) for name, value in sample.items()}\n",
        "predictions1 = inference_model.predict(input_dict)  * 100\n",
        "\n",
        "print(\n",
        "    f\"Esta paciente #1  en particular tiene un {predictions1[0][0]:.2f}% Probabilidad \"\n",
        "    \"De padecer Trastorno del Sueño, según lo evaluado por nuestro modelo\"\n",
        ")\n",
        "\n",
        "input_dict = {name: tf.convert_to_tensor([value]) for name, value in sample2.items()}\n",
        "predictions2 = inference_model.predict(input_dict) *100\n",
        "\n",
        "print(\n",
        "    f\"Esta paciente #2  en particular tiene un {predictions2[0][0]:.2f}% Probabilidad \"\n",
        "    \"De padecer Trastorno del Sueño, según lo evaluado por nuestro modelo\"\n",
        ")\n",
        "predictions = [predictions1[0][0], predictions2[0][0]]\n",
        "plot_predictions(predictions)\n"
      ],
      "metadata": {
        "colab": {
          "base_uri": "https://localhost:8080/",
          "height": 526
        },
        "id": "pfS9t7ncb6qw",
        "outputId": "a0af2e4b-24a9-407f-bdc5-cfc23ecd5ad0"
      },
      "execution_count": null,
      "outputs": [
        {
          "output_type": "stream",
          "name": "stdout",
          "text": [
            "\u001b[1m1/1\u001b[0m \u001b[32m━━━━━━━━━━━━━━━━━━━━\u001b[0m\u001b[37m\u001b[0m \u001b[1m0s\u001b[0m 27ms/step\n",
            "Esta paciente #1  en particular tiene un 91.00% Probabilidad De padecer Trastorno del Sueño, según lo evaluado por nuestro modelo\n",
            "\u001b[1m1/1\u001b[0m \u001b[32m━━━━━━━━━━━━━━━━━━━━\u001b[0m\u001b[37m\u001b[0m \u001b[1m0s\u001b[0m 27ms/step\n",
            "Esta paciente #2  en particular tiene un 30.58% Probabilidad De padecer Trastorno del Sueño, según lo evaluado por nuestro modelo\n"
          ]
        },
        {
          "output_type": "display_data",
          "data": {
            "text/plain": [
              "<Figure size 640x480 with 1 Axes>"
            ],
            "image/png": "[encoded data removed]"
          },
          "metadata": {}
        }
      ]
    },
    {
      "cell_type": "markdown",
      "source": [
        "# **Conclusiones (Respuesta a la pregunta del Cliente)**\n",
        "\n",
        "Se concluye que el paciente #1 tiene probabilidades altas de Padecer de Trastornos del Sueño,\n",
        "\n",
        "En cambio el paciente #2 no padece de trastornos del sueño son Menores sus posibilidades"
      ],
      "metadata": {
        "id": "f90T3vHwyWjE"
      }
    }
  ]
}